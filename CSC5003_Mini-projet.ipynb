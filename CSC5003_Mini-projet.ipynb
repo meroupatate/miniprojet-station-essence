{
 "cells": [
  {
   "cell_type": "markdown",
   "metadata": {},
   "source": [
    "# CSC5003 Mini-projet 1\n",
    "Alice ZHEN\n",
    "\n",
    "## Objectif métier\n",
    "On souhaite aider à sélectionner un point de vente de carburant à proximité d'un utilisateur automobiliste en fonction de la distance et du prix du carburant.\n",
    "\n",
    "## Jeu de données utilisé\n",
    "Prix des carburants en France le 9 janvier 2021 \\\n",
    "https://www.data.gouv.fr/fr/datasets/r/087dfcbc-8119-4814-8412-d0a387fac561\n",
    "\n",
    "On peut observer que ce jeu de données est au format XML:"
   ]
  },
  {
   "cell_type": "code",
   "execution_count": 1,
   "metadata": {},
   "outputs": [
    {
     "data": {
      "text/plain": [
       "\u001b[32mimport \u001b[39m\u001b[36mscala.sys.process._\n",
       "\u001b[39m\n",
       "\u001b[36mres0_1\u001b[39m: \u001b[32mString\u001b[39m = \u001b[32m\"\"\"<?xml version=\"1.0\" encoding=\"ISO-8859-1\" standalone=\"yes\"?>\n",
       "<pdv_liste>\n",
       "  <pdv id=\"1000001\" latitude=\"4620114\" longitude=\"519791\" cp=\"01000\" pop=\"R\">\n",
       "    <adresse>596 AVENUE DE TREVOUX</adresse>\n",
       "    <ville>SAINT-DENIS-L�S-BOURG</ville>\n",
       "    <services>\n",
       "      <service>Station de gonflage</service>\n",
       "      <service>Vente de gaz domestique (Butane, Propane)</service>\n",
       "      <service>DAB (Distributeur automatique de billets)</service>\n",
       "    </services>\n",
       "    <prix nom=\"Gazole\" id=\"1\" maj=\"2021-01-08T10:20:52\" valeur=\"1274\"/>\n",
       "    <prix nom=\"SP95\" id=\"2\" maj=\"2021-01-08T10:20:52\" valeur=\"1388\"/>\n",
       "    <prix nom=\"SP98\" id=\"6\" maj=\"2021-01-09T09:25:53\" valeur=\"1405\"/>\n",
       "    <rupture id=\"4\" nom=\"GPLc\" debut=\"2017-09-16T09:50:23\" fin=\"\"/>\n",
       "    <rupture id=\"3\" nom=\"E85\" debut=\"2017-09-16T09:50:23\" fin=\"\"/>\n",
       "    <rupture id=\"5\" nom=\"E10\" debut=\"2018-12-13T09:49:49\" fin=\"\"/>\n",
       "  </pdv>\n",
       "  <pdv id=\"1000002\" latitude=\"4621842\" longitude=\"522767\" cp=\"01000\" pop=\"R\">\n",
       "    <adresse>16 Avenue de Marboz</adresse>\n",
       "    <ville>BOURG-EN-BRESSE</ville>\n",
       "    <services>\n",
       "      <service>Vente de gaz domestique (Butane, Propane)</service>\n",
       "      <service>DAB (Distributeur automatique de billets)</service>\n",
       "    </services>\n",
       "    <prix nom=\"Gazole\" id=\"1\" maj=\"2021-01-06T08:41:56\" valeur=\"1259\"/>\n",
       "    <prix nom=\"SP95\" id=\"2\" maj=\"2021-01-06T08:49:43\" valeur=\"1383\"/>\n",
       "    <prix nom=\"SP98\" id=\"6\" maj=\"2021-01-06T08:49:44\" valeur=\"1405\"/>\n",
       "    <rupture id=\"3\" nom=\"E85\" debut=\"2017-09-07T11:05:59\" fin=\"\"/>\n",
       "    <rupture id=\"4\" nom=\"GPLc\" debut=\"2017-09-07T11:05:59\" fin=\"\"/>\n",
       "    <rupture id=\"5\" nom=\"E10\" debut=\"2017-09-07T11:05:59\" fin=\"\"/>\n",
       "  </pdv>\n",
       "  <pdv id=\"1000004\" latitude=\"4618800\" longitude=\"524500\" cp=\"01000\" pop=\"R\">\n",
       "    <adresse>20 Avenue du Mar�chal Juin</adresse>\n",
       "    <ville>Bourg-en-Bresse</ville>\n",
       "    <horaires automate-24-24=\"1\">\n",
       "      <jour id=\"1\" nom=\"Lundi\" ferme=\"\">\n",
       "        <horaire ouverture=\"06.30\" fermeture=\"20.00\"/>\n",
       "      </jour>\n",
       "      <jour id=\"2\" nom=\"Mardi\" ferme=\"\">\n",
       "\u001b[39m..."
      ]
     },
     "execution_count": 1,
     "metadata": {},
     "output_type": "execute_result"
    }
   ],
   "source": [
    "import scala.sys.process._\n",
    "Process(\"cat PrixCarburants_quotidien_20210109.xml\")!!"
   ]
  },
  {
   "cell_type": "markdown",
   "metadata": {},
   "source": [
    "## Préparation de l'environnement\n",
    "On va utiliser Spark afin de traiter les données.\n",
    "\n",
    "On importe dans un premier temps les dépendences nécessaires:"
   ]
  },
  {
   "cell_type": "code",
   "execution_count": 2,
   "metadata": {
    "collapsed": true
   },
   "outputs": [
    {
     "data": {
      "text/plain": [
       "\u001b[32mimport \u001b[39m\u001b[36m$ivy.$                                  \n",
       "\u001b[39m\n",
       "\u001b[32mimport \u001b[39m\u001b[36m$ivy.$                               \n",
       "\u001b[39m\n",
       "\u001b[32mimport \u001b[39m\u001b[36m$ivy.$                                 \n",
       "\u001b[39m\n",
       "\u001b[32mimport \u001b[39m\u001b[36m$ivy.$                           \n",
       "\u001b[39m\n",
       "\u001b[32mimport \u001b[39m\u001b[36m$ivy.$                            \u001b[39m"
      ]
     },
     "execution_count": 2,
     "metadata": {},
     "output_type": "execute_result"
    }
   ],
   "source": [
    "import $ivy.`org.apache.spark::spark-sql:2.4.0`\n",
    "import $ivy.`sh.almond::almond-spark:0.10.9`\n",
    "import $ivy.`com.databricks::spark-xml:0.11.0`\n",
    "import $ivy.`com.lihaoyi::upickle:0.7.1`\n",
    "import $ivy.`com.lihaoyi::requests:0.6.5`"
   ]
  },
  {
   "cell_type": "markdown",
   "metadata": {},
   "source": [
    "On configure le niveau des logs:"
   ]
  },
  {
   "cell_type": "code",
   "execution_count": 3,
   "metadata": {
    "collapsed": true
   },
   "outputs": [
    {
     "data": {
      "text/plain": [
       "\u001b[32mimport \u001b[39m\u001b[36morg.apache.log4j.{Level, Logger}\n",
       "\u001b[39m"
      ]
     },
     "execution_count": 3,
     "metadata": {},
     "output_type": "execute_result"
    }
   ],
   "source": [
    "// Configure le niveau des logs\n",
    "import org.apache.log4j.{Level, Logger}\n",
    "Logger.getLogger(\"org\").setLevel(Level.ERROR)"
   ]
  },
  {
   "cell_type": "markdown",
   "metadata": {},
   "source": [
    "## Chargement des données avec Spark\n",
    "On crée une session Spark:"
   ]
  },
  {
   "cell_type": "code",
   "execution_count": 4,
   "metadata": {
    "collapsed": true
   },
   "outputs": [
    {
     "name": "stdout",
     "output_type": "stream",
     "text": [
      "Loading spark-stubs\n",
      "Getting spark JARs\n",
      "Creating SparkSession\n"
     ]
    },
    {
     "name": "stderr",
     "output_type": "stream",
     "text": [
      "Using Spark's default log4j profile: org/apache/spark/log4j-defaults.properties\n"
     ]
    },
    {
     "data": {
      "text/html": [
       "<a target=\"_blank\" href=\"http://192.168.1.54:4040\">Spark UI</a>"
      ]
     },
     "metadata": {},
     "output_type": "display_data"
    },
    {
     "data": {
      "text/plain": [
       "\u001b[32mimport \u001b[39m\u001b[36morg.apache.spark.sql._\n",
       "\n",
       "\u001b[39m\n",
       "\u001b[36mspark\u001b[39m: \u001b[32mSparkSession\u001b[39m = org.apache.spark.sql.SparkSession@1f56ee9d"
      ]
     },
     "execution_count": 4,
     "metadata": {},
     "output_type": "execute_result"
    }
   ],
   "source": [
    "import org.apache.spark.sql._\n",
    "\n",
    "val spark = {\n",
    "    NotebookSparkSession.builder()\n",
    "        .master(\"local[*]\")\n",
    "        .getOrCreate()\n",
    "}"
   ]
  },
  {
   "cell_type": "markdown",
   "metadata": {},
   "source": [
    "On utilise la librarie [spark-xml](https://github.com/databricks/spark-xml) afin de parser les données XML avec Spark afin de pouvoir le charger en tant que structure DataFrame:"
   ]
  },
  {
   "cell_type": "code",
   "execution_count": 5,
   "metadata": {},
   "outputs": [
    {
     "data": {
      "text/html": [
       "<script>\n",
       "var comm = Jupyter.notebook.kernel.comm_manager.new_comm('cancel-stage-d41e4e6c-14f2-40d1-b8f6-d62726a69444', {});\n",
       "\n",
       "function cancelStage(stageId) {\n",
       "  console.log('Cancelling stage ' + stageId);\n",
       "  comm.send({ 'stageId': stageId });\n",
       "}\n",
       "</script>\n",
       "          "
      ]
     },
     "metadata": {},
     "output_type": "display_data"
    },
    {
     "data": {
      "text/html": [
       "<div>\n",
       "  <span style=\"float: left;\">fold at InferSchema.scala:96</span>\n",
       "</div>\n"
      ]
     },
     "metadata": {},
     "output_type": "display_data"
    },
    {
     "data": {
      "text/html": [
       "<div class=\"progress\">\n",
       "  <div class=\"progress-bar\" role=\"progressbar\" style=\"background-color: blue; width: 100%; word-wrap: normal; white-space: nowrap; text-align: center; color: white\" aria-valuenow=\"100\" aria-valuemin=\"0\" aria-valuemax=\"100\">\n",
       "    1 / 1\n",
       "  </div>\n",
       "  <div class=\"progress-bar\" role=\"progressbar\" style=\"background-color: red; width: 0%\" aria-valuenow=\"0\" aria-valuemin=\"0\" aria-valuemax=\"100\"></div>\n",
       "</div>\n"
      ]
     },
     "metadata": {},
     "output_type": "display_data"
    },
    {
     "data": {
      "text/html": [
       "<div>\n",
       "  <span style=\"float: left;\">show at cmd4.sc:9</span>\n",
       "</div>\n"
      ]
     },
     "metadata": {},
     "output_type": "display_data"
    },
    {
     "data": {
      "text/html": [
       "<div class=\"progress\">\n",
       "  <div class=\"progress-bar\" role=\"progressbar\" style=\"background-color: blue; width: 100%; word-wrap: normal; white-space: nowrap; text-align: center; color: white\" aria-valuenow=\"100\" aria-valuemin=\"0\" aria-valuemax=\"100\">\n",
       "    1 / 1\n",
       "  </div>\n",
       "  <div class=\"progress-bar\" role=\"progressbar\" style=\"background-color: red; width: 0%\" aria-valuenow=\"0\" aria-valuemin=\"0\" aria-valuemax=\"100\"></div>\n",
       "</div>\n"
      ]
     },
     "metadata": {},
     "output_type": "display_data"
    },
    {
     "name": "stdout",
     "output_type": "stream",
     "text": [
      "+----+-------+-------------+-------------+----+--------------------+---------+--------+--------------------+--------------------+--------------------+--------------------+\n",
      "| _cp|    _id|    _latitude|   _longitude|_pop|             adresse|fermeture|horaires|                prix|             rupture|            services|               ville|\n",
      "+----+-------+-------------+-------------+----+--------------------+---------+--------+--------------------+--------------------+--------------------+--------------------+\n",
      "|1000|1000001|    4620114.0|     519791.0|   R|596 AVENUE DE TRE...|     null|    null|[[, 1, 2021-01-08...|[[, 2017-09-16T09...|[[Station de gonf...|SAINT-DENIS-L�S-B...|\n",
      "|1000|1000002|    4621842.0|     522767.0|   R| 16 Avenue de Marboz|     null|    null|[[, 1, 2021-01-06...|[[, 2017-09-07T11...|[[Vente de gaz do...|     BOURG-EN-BRESSE|\n",
      "|1000|1000004|    4618800.0|     524500.0|   R|20 Avenue du Mar�...|     null|    null|                null|                null|                null|     Bourg-en-Bresse|\n",
      "|1000|1000005|4620093.59235|519942.024022|   R|642 Avenue de Tr�...|     null|    null|                null|[[, 2011-06-01T00...|[[Carburant addit...|SAINT-DENIS-L�S-B...|\n",
      "|1000|1000006|    4620754.0|     523758.0|   R|1 Boulevard John ...|     null|    null|                null|[[, 2017-09-25T19...|[[Vente de gaz do...|     BOURG-EN-BRESSE|\n",
      "|1000|1000007|    4620105.0|     524891.0|   R|360 AVENUE DU CAP...|     null|    null|[[, 1, 2021-01-05...|                null|[[Vente de gaz do...|     Bourg-en-Bresse|\n",
      "|1000|1000008|    4619900.0|     524100.0|   R|Bd Charles de Gaulle|     null|    null|                null|                null|                null|     BOURG-EN-BRESSE|\n",
      "|1000|1000009|    4619566.0|     522935.0|   R|     56 Rue du Stand|     null|    null|                null|                null|                null|     Bourg-en-Bresse|\n",
      "|1000|1000010|4619851.83794|524350.637881|   R|Boulevard Charles...|     null|    null|                null|[[, 2011-06-09T06...|[[DAB (Distribute...|     BOURG-EN-BRESSE|\n",
      "|1000|1000012|    4620100.0|     520000.0|   R|642 AVENUE DE TRE...|     null|    null|                null|                null|                null|SAINT DENIS LES B...|\n",
      "|1000|1000013|4619851.83794|524350.637881|   R|BOULEVARD CHARLES...|     null|    null|                null|                null|                null|     Bourg-en-Bresse|\n",
      "|1090|1090001|    4609600.0|     477500.0|   R|1 ROUTE DE FRANCH...|     null|    null|[[, 1, 2021-01-04...|                null|[[DAB (Distribute...|           MONTCEAUX|\n",
      "|1100|1100001|    4628404.0|     566282.0|   R|     ROUTE DE DORTAN|     null|    null|[[, 1, 2021-01-09...|[[, 2014-08-27T00...|[[Carburant addit...|              Arbent|\n",
      "|1100|1100002|    4625000.0|     564400.0|   R| Rue Brillat-Savarin|     null|    null|                null|                null|                null|             OYONNAX|\n",
      "|1100|1100003|    4624966.0|     564134.0|   R| 174 Cours de Verdun|     null|    null|                null|[[, 2013-03-13T16...|[[Carburant addit...|             Oyonnax|\n",
      "|1100|1100004|    4627200.0|     566000.0|   R|886 AVENUE JEAN C...|     null|    null|                null|                null|                null|    ARBENT - OYONNAX|\n",
      "|1100|1100006|    4626200.0|     564800.0|   R|74 Rue Jules Mich...|     null|    null|                null|                null|                null|             Oyonnax|\n",
      "|1100|1100007|    4624966.0|     564134.0|   R| 174 COURS DE VERDUN|     null|    null|[[, 1, 2021-01-09...|                null|[[Carburant addit...|             OYONNAX|\n",
      "|1110|1110001|    4597800.0|     559900.0|   R|         Rue Masonod|     null|    null|[[, 1, 2021-01-08...|[[, 2017-09-08T08...|[[Vente de gaz do...|  HAUTEVILLE-LOMPNES|\n",
      "|1120|1120002|4584715.18044|507404.780227|   A|      AUTOROUTE A 42|     null|    null|                null|[[, 2011-06-08T11...|[[Carburant addit...|             DAGNEUX|\n",
      "+----+-------+-------------+-------------+----+--------------------+---------+--------+--------------------+--------------------+--------------------+--------------------+\n",
      "only showing top 20 rows\n",
      "\n"
     ]
    },
    {
     "data": {
      "text/plain": [
       "\u001b[32mimport \u001b[39m\u001b[36mcom.databricks.spark.xml._\n",
       "\n",
       "// Lire le jeu de données en format XML\n",
       "\u001b[39m\n",
       "\u001b[36mdf\u001b[39m: \u001b[32mDataFrame\u001b[39m = [_cp: bigint, _id: bigint ... 10 more fields]"
      ]
     },
     "execution_count": 5,
     "metadata": {},
     "output_type": "execute_result"
    }
   ],
   "source": [
    "import com.databricks.spark.xml._\n",
    "\n",
    "// Lire le jeu de données en format XML\n",
    "val df = spark.read\n",
    "    .option(\"rowTag\", \"pdv\")\n",
    "    .option(\"encoding\", \"UTF-8\")\n",
    "    .xml(\"PrixCarburants_quotidien_20210109.xml\")\n",
    "\n",
    "df.show()"
   ]
  },
  {
   "cell_type": "markdown",
   "metadata": {},
   "source": [
    "## Nettoyer les données chargées\n",
    "Nous considérons un utilisateur dont on connait les coordonnées géographiques qui va sélectionner le type de carburant qu'il recherche.\n",
    "\n",
    "Dans notre exemple, il s'agit d'un véhicule au **19 place Marguerite Perey\n",
    "à Palaiseau** qui souhaite se recharger en **SP95**."
   ]
  },
  {
   "cell_type": "code",
   "execution_count": 6,
   "metadata": {
    "collapsed": true
   },
   "outputs": [
    {
     "data": {
      "text/plain": [
       "\u001b[36minputCarburantType\u001b[39m: \u001b[32mString\u001b[39m = \u001b[32m\"SP95\"\u001b[39m\n",
       "\u001b[36minputLat\u001b[39m: \u001b[32mString\u001b[39m = \u001b[32m\"48.712793\"\u001b[39m\n",
       "\u001b[36minputLong\u001b[39m: \u001b[32mString\u001b[39m = \u001b[32m\"2.199441\"\u001b[39m"
      ]
     },
     "execution_count": 6,
     "metadata": {},
     "output_type": "execute_result"
    }
   ],
   "source": [
    "// Informations sur le véhicule de l'utilisateur\n",
    "val inputCarburantType = \"SP95\"\n",
    "val inputLat = \"48.712793\"\n",
    "val inputLong = \"2.199441\""
   ]
  },
  {
   "cell_type": "markdown",
   "metadata": {},
   "source": [
    "Nous allons nettoyer dans un premier temps le jeu de données en ne conservant que les points de vente où le carburant sélectionné est vendu et disponible et en ne sélectionnant que les colonnes qui nous intéressent:"
   ]
  },
  {
   "cell_type": "code",
   "execution_count": 7,
   "metadata": {
    "collapsed": true
   },
   "outputs": [
    {
     "data": {
      "text/plain": [
       "\u001b[32mimport \u001b[39m\u001b[36morg.apache.spark.sql.functions.{array_contains, col, explode}\n",
       "\n",
       "\u001b[39m\n",
       "\u001b[36mdfClean\u001b[39m: \u001b[32mDataset\u001b[39m[\u001b[32mRow\u001b[39m] = [_longitude: double, _latitude: double ... 3 more fields]"
      ]
     },
     "execution_count": 7,
     "metadata": {},
     "output_type": "execute_result"
    }
   ],
   "source": [
    "import org.apache.spark.sql.functions.{array_contains, col, explode}\n",
    "\n",
    "val dfClean = df.withColumn(\"prix\", explode(col(\"prix\")))\n",
    "    .select(\"_longitude\", \"_latitude\", \"adresse\", \"ville\", \"prix._valeur\")\n",
    "    .filter(col(\"prix._nom\") === inputCarburantType)\n",
    "    .filter(! array_contains(col(\"rupture._nom\"), inputCarburantType))"
   ]
  },
  {
   "cell_type": "markdown",
   "metadata": {},
   "source": [
    "L'affichage des données nettoyées nous donne le tableau ci-dessous:"
   ]
  },
  {
   "cell_type": "code",
   "execution_count": 8,
   "metadata": {},
   "outputs": [
    {
     "data": {
      "text/html": [
       "<div>\n",
       "  <span style=\"float: left;\">show at cmd7.sc:1</span>\n",
       "</div>\n"
      ]
     },
     "metadata": {},
     "output_type": "display_data"
    },
    {
     "data": {
      "text/html": [
       "<div class=\"progress\">\n",
       "  <div class=\"progress-bar\" role=\"progressbar\" style=\"background-color: blue; width: 100%; word-wrap: normal; white-space: nowrap; text-align: center; color: white\" aria-valuenow=\"100\" aria-valuemin=\"0\" aria-valuemax=\"100\">\n",
       "    1 / 1\n",
       "  </div>\n",
       "  <div class=\"progress-bar\" role=\"progressbar\" style=\"background-color: red; width: 0%\" aria-valuenow=\"0\" aria-valuemin=\"0\" aria-valuemax=\"100\"></div>\n",
       "</div>\n"
      ]
     },
     "metadata": {},
     "output_type": "display_data"
    },
    {
     "name": "stdout",
     "output_type": "stream",
     "text": [
      "+-------------+-------------+--------------------+--------------------+-------+\n",
      "|   _longitude|    _latitude|             adresse|               ville|_valeur|\n",
      "+-------------+-------------+--------------------+--------------------+-------+\n",
      "|     519791.0|    4620114.0|596 AVENUE DE TRE...|SAINT-DENIS-L�S-B...|   1388|\n",
      "|     522767.0|    4621842.0| 16 Avenue de Marboz|     BOURG-EN-BRESSE|   1383|\n",
      "|     524500.0|    4618800.0|20 Avenue du Mar�...|     Bourg-en-Bresse|   1490|\n",
      "|     524100.0|    4619900.0|Bd Charles de Gaulle|     BOURG-EN-BRESSE|   1388|\n",
      "|     522935.0|    4619566.0|     56 Rue du Stand|     Bourg-en-Bresse|   1383|\n",
      "|     566282.0|    4628404.0|     ROUTE DE DORTAN|              Arbent|   1429|\n",
      "|     566000.0|    4627200.0|886 AVENUE JEAN C...|    ARBENT - OYONNAX|   1439|\n",
      "|     559900.0|    4597800.0|         Rue Masonod|  HAUTEVILLE-LOMPNES|   1420|\n",
      "|     569100.0|    4616700.0| 867 ROUTE DE GENEVE|LE POIZAT LALLEYRIAT|   1459|\n",
      "|     527800.0|    4583900.0|Avenue Charles de...|        SAINT-VULBAS|   1442|\n",
      "|   534231.844|  4604020.975|Le Pont Rompu - R...|          PONT-D'AIN|   1420|\n",
      "|     537600.0|    4607400.0|Rue du Docteur Hu...|    NEUVILLE-SUR-AIN|   1379|\n",
      "|     607900.0|    4629300.0|                 RN5|               S�GNY|   1389|\n",
      "|605319.031966|4632242.54852|Lieu-Dit les Vert...|                 GEX|   1379|\n",
      "|     581200.0|    4612400.0|Avenue Mar�chal d...|Bellegarde-sur-Va...|   1359|\n",
      "|     611817.0|    4625303.0| Chemin de la Bru...|     FERNEY-VOLTAIRE|   1389|\n",
      "|     609500.0|    4624400.0|     Route de Meyrin|     FERNEY-VOLTAIRE|   1385|\n",
      "|     614100.0|    4634300.0|691 AVENUE DU CRE...|   Divonne-les-Bains|   1428|\n",
      "|     543200.0|    4594200.0|38 AVENUE DE L EU...|SAINT-RAMBERT-EN-...|   1440|\n",
      "|     539400.0|    4592100.0|             RD 1504|             Torcieu|   1460|\n",
      "+-------------+-------------+--------------------+--------------------+-------+\n",
      "only showing top 20 rows\n",
      "\n"
     ]
    }
   ],
   "source": [
    "dfClean.show()"
   ]
  },
  {
   "cell_type": "markdown",
   "metadata": {},
   "source": [
    "## Enrichir les données en calculant la distance des points de vente\n",
    "Afin de pouvoir ordonner les points de vente en fonction de leur distance à l'utilisateur, nous allons ajouter une colonne dans le jeu de données qui va contenir la distance du point de vente à l'utilisateur.\n",
    "\n",
    "Pour obtenir cette distance, nous utiliserons [l'API OpenRoute Service](https://openrouteservice.org/) qui permet entre autre de déterminer un itinéraire entre deux points."
   ]
  },
  {
   "cell_type": "code",
   "execution_count": null,
   "metadata": {},
   "outputs": [],
   "source": [
    "import java.nio.file.{Paths, Files}\n",
    "import java.nio.charset.StandardCharsets\n",
    "\n",
    "// Définit les variables d'ORS utilisées\n",
    "val orsToken = Files.readString(Paths.get(\".ors_token\"), StandardCharsets.UTF_8)\n",
    "val orsProfile = \"driving-car\""
   ]
  },
  {
   "cell_type": "markdown",
   "metadata": {},
   "source": [
    "\n",
    "Cette API est gratuite, c'est pourquoi son utilisation est limitée par des quotas (max 40 requêtes / min et 2000 requêtes / jour). Afin de respecter ces quotas, nous choisissons de limiter notre démonstration à un échantillon de 200 points de ventes et nous attendons 1.5s entre chaque requête. Nous allons également mettre en cache les données résultant de ces requêtes afin de ne pas avoir à les refaire par la suite."
   ]
  },
  {
   "cell_type": "code",
   "execution_count": 10,
   "metadata": {
    "collapsed": true
   },
   "outputs": [
    {
     "data": {
      "text/html": [
       "<div>\n",
       "  <span style=\"float: left;\">count at cmd9.sc:31</span>\n",
       "</div>\n"
      ]
     },
     "metadata": {},
     "output_type": "display_data"
    },
    {
     "data": {
      "text/html": [
       "<div class=\"progress\">\n",
       "  <div class=\"progress-bar\" role=\"progressbar\" style=\"background-color: blue; width: 100%; word-wrap: normal; white-space: nowrap; text-align: center; color: white\" aria-valuenow=\"100\" aria-valuemin=\"0\" aria-valuemax=\"100\">\n",
       "    1 / 1\n",
       "  </div>\n",
       "  <div class=\"progress-bar\" role=\"progressbar\" style=\"background-color: red; width: 0%\" aria-valuenow=\"0\" aria-valuemin=\"0\" aria-valuemax=\"100\"></div>\n",
       "</div>\n"
      ]
     },
     "metadata": {},
     "output_type": "display_data"
    },
    {
     "data": {
      "text/html": [
       "<div>\n",
       "  <span style=\"float: left;\">count at cmd9.sc:31</span>\n",
       "</div>\n"
      ]
     },
     "metadata": {},
     "output_type": "display_data"
    },
    {
     "data": {
      "text/html": [
       "<div class=\"progress\">\n",
       "  <div class=\"progress-bar\" role=\"progressbar\" style=\"background-color: blue; width: 100%; word-wrap: normal; white-space: nowrap; text-align: center; color: white\" aria-valuenow=\"100\" aria-valuemin=\"0\" aria-valuemax=\"100\">\n",
       "    1 / 1\n",
       "  </div>\n",
       "  <div class=\"progress-bar\" role=\"progressbar\" style=\"background-color: red; width: 0%\" aria-valuenow=\"0\" aria-valuemin=\"0\" aria-valuemax=\"100\"></div>\n",
       "</div>\n"
      ]
     },
     "metadata": {},
     "output_type": "display_data"
    },
    {
     "data": {
      "text/plain": [
       "\u001b[32mimport \u001b[39m\u001b[36mjava.lang.String\n",
       "\u001b[39m\n",
       "\u001b[32mimport \u001b[39m\u001b[36mjava.time._\n",
       "\u001b[39m\n",
       "\u001b[32mimport \u001b[39m\u001b[36morg.apache.spark.sql.functions.udf\n",
       "\u001b[39m\n",
       "\u001b[32mimport \u001b[39m\u001b[36morg.apache.spark.sql.types._\n",
       "\u001b[39m\n",
       "\u001b[32mimport \u001b[39m\u001b[36mujson._\n",
       "\n",
       "\n",
       "// Définit une fonction qui interroge l'API Openroute Service et qui renvoie la distance en km\n",
       "\u001b[39m\n",
       "defined \u001b[32mfunction\u001b[39m \u001b[36mgetDistanceFromUser\u001b[39m\n",
       "defined \u001b[32mfunction\u001b[39m \u001b[36mgetDistance\u001b[39m\n",
       "\u001b[36mdfDistance\u001b[39m: \u001b[32mDataset\u001b[39m[\u001b[32mRow\u001b[39m] = [adresse: string, ville: string ... 4 more fields]"
      ]
     },
     "execution_count": 10,
     "metadata": {},
     "output_type": "execute_result"
    }
   ],
   "source": [
    "import java.lang.String\n",
    "import java.time._\n",
    "import org.apache.spark.sql.functions.udf\n",
    "import org.apache.spark.sql.types._\n",
    "import ujson._\n",
    "\n",
    "\n",
    "// Définit une fonction qui interroge l'API Openroute Service et qui renvoie la distance en km\n",
    "def getDistanceFromUser(long:Double, lat:Double) : String = {\n",
    "    var url = \"https://api.openrouteservice.org/v2/directions/driving-car/geojson\"\n",
    "    var data = Obj(\"coordinates\" -> Arr(Arr(inputLong,inputLat), Arr(long,lat)), \n",
    "                   \"radiuses\" -> Arr(350, 2000))\n",
    "    var headers = Map(\"Authorization\" -> orsToken, \"Content-Type\" -> \"application/json; charset=utf-8\")\n",
    "    \n",
    "    var req = requests.post(url = url, data = data.toString, headers = headers)\n",
    "    \n",
    "    var distance = -1.0\n",
    "    if (req.statusCode == 200) {\n",
    "        distance = ujson.read(req.text)(\"features\")(0)(\"properties\")(\"summary\")(\"distance\").num / 1000\n",
    "    }\n",
    "    // Pause pour ne pas dépasser le quota de 40 requests/min\n",
    "    Thread.sleep(1500)\n",
    "    return String.valueOf(distance)\n",
    "}\n",
    "\n",
    "// Définit une UDF\n",
    "def getDistance = udf(getDistanceFromUser _, StringType)\n",
    "\n",
    "// Ajoute la colonne `distance` aux données \n",
    "// (on prend un échantillon de 200 en raison des limitations de crédits API)\n",
    "val dfDistance = dfClean.sample(true, 1D*200/df.count)\n",
    "                .withColumn(\"longitude\", col(\"_longitude\") / 100000)\n",
    "                .withColumn(\"latitude\", col(\"_latitude\") / 100000)\n",
    "                .withColumn(\"distance\", getDistance(col(\"longitude\"), col(\"latitude\")))\n",
    "                .filter(col(\"distance\") > 0)\n",
    "                .select(\"adresse\", \"ville\", \"_valeur\", \"longitude\", \"latitude\", \"distance\")\n",
    "                .cache()"
   ]
  },
  {
   "cell_type": "markdown",
   "metadata": {},
   "source": [
    "On peut observer qu'une colonne `distance` a bien été ajoutée à nos données:"
   ]
  },
  {
   "cell_type": "code",
   "execution_count": 11,
   "metadata": {},
   "outputs": [
    {
     "data": {
      "text/html": [
       "<div>\n",
       "  <span style=\"float: left;\">show at cmd10.sc:1</span>\n",
       "</div>\n"
      ]
     },
     "metadata": {},
     "output_type": "display_data"
    },
    {
     "data": {
      "text/html": [
       "<div class=\"progress\">\n",
       "  <div class=\"progress-bar\" role=\"progressbar\" style=\"background-color: blue; width: 100%; word-wrap: normal; white-space: nowrap; text-align: center; color: white\" aria-valuenow=\"100\" aria-valuemin=\"0\" aria-valuemax=\"100\">\n",
       "    1 / 1\n",
       "  </div>\n",
       "  <div class=\"progress-bar\" role=\"progressbar\" style=\"background-color: red; width: 0%\" aria-valuenow=\"0\" aria-valuemin=\"0\" aria-valuemax=\"100\"></div>\n",
       "</div>\n"
      ]
     },
     "metadata": {},
     "output_type": "display_data"
    },
    {
     "name": "stdout",
     "output_type": "stream",
     "text": [
      "+--------------------+--------------------+-------+------------------+------------------+------------------+\n",
      "|             adresse|               ville|_valeur|         longitude|          latitude|          distance|\n",
      "+--------------------+--------------------+-------+------------------+------------------+------------------+\n",
      "|1000 rue jean jaures|    Fresnoy-le-Grand|   1371|         3.4304281|         49.957514|210.43370000000002|\n",
      "|ZAC DE W� - 2 ave...|       CARIGNAN - W�|   1384|        5.16159956|       49.63718865|            283.01|\n",
      "|   Route de Toulouse|        Saint-Lizier|   1389|   1.1307646674172|   43.002708124042|          748.4149|\n",
      "|    335 rue du p�age|               AUXON|   1414|             3.917|             48.11|          167.3117|\n",
      "|  BOULEVARD NAPOLEON|  Brienne-le-Ch�teau|   1385|          4.528256|        48.3965167|          209.9967|\n",
      "|33 Boulevard du M...|           Marseille|   1391|           5.40524|          43.31339|          764.3521|\n",
      "|chemin du puits d...|           LA CIOTAT|   1402|             5.602|            43.188| 794.6619000000001|\n",
      "| route de Ouistreham|Saint-Aubin-d'Arq...|   1369|       -0.28047954|       49.26294216|           253.621|\n",
      "|     Rue des Acacias|La Chapelle-Saint...|   1384|             2.324|            47.063|          221.6478|\n",
      "|AVENUE RAYMOND PO...|               OBJAT|   1369|             1.413|            45.259|          460.6563|\n",
      "|               RT 20|               Corte|   1550|   9.1575178955876|   42.301790177065|           1166.49|\n",
      "|RUE DU VIEUX CH�TEAU|              TOUTRY|   1412|             4.122|            47.502|          219.2476|\n",
      "|  RUE DE LA VERDOLLE|     ORCHAMPS-VENNES|   1386|             6.522|            47.129|444.98720000000003|\n",
      "|66 RUE DE SELONCOURT|          AUDINCOURT|   1369|             6.847|            47.475|          470.8559|\n",
      "|     56 AV DU MAQUIS|    Romans-sur-Is�re|   1440|             5.075|            45.049|          556.6525|\n",
      "|      ROUTE DE LYONS|            IGOVILLE|   1419|             1.157|            49.319|           129.663|\n",
      "|228 Avenue de Cas...|            Toulouse|   1551|1.4889210000000002|43.594424000000004|          656.6825|\n",
      "|450 Avenue du G�n...|            Cadaujac|   1379|          -0.53211|          44.75214| 568.2818000000001|\n",
      "|  2 rue des Bouquets|             COUTRAS|   1369|   -0.122292144133|     45.0483566606| 513.8892999999999|\n",
      "| 10 Route de Lalande|           Montussan|   1449|             -0.43|            44.874|          559.7402|\n",
      "+--------------------+--------------------+-------+------------------+------------------+------------------+\n",
      "only showing top 20 rows\n",
      "\n"
     ]
    }
   ],
   "source": [
    "dfDistance.show()"
   ]
  },
  {
   "cell_type": "markdown",
   "metadata": {},
   "source": [
    "## Proposer des résultats en fonction des critères sélectionnés\n",
    "Une fois la distance à l'utilisateur des points de vente de notre échantillon ajoutée à nos données, nous allons pouvoir proposer des résultats.\n",
    "\n",
    "Pour cela, nous proposerons à l'utilisateur de sélectionner la **distance maximum** de la recherche (300 km dans notre exemple car nous avons pris seulement un échantillon des données).\n",
    "\n",
    "Il doit ensuite choisir entre deux critères: la **distance** et le **prix**.\n",
    "\n",
    "Le choix du critère `distance` va proposer à l'utilisateur les points de vente dans l'ordre de proximité par rapport à sa localisation.\n",
    "\n",
    "Le choix du critère `price` quant à lui va ordonner les points de vente par ordre de prix croissant."
   ]
  },
  {
   "cell_type": "code",
   "execution_count": 12,
   "metadata": {
    "collapsed": true
   },
   "outputs": [
    {
     "data": {
      "text/html": [
       "<div class=\"jp-RenderedText\">\n",
       "<pre><code><span style=\"color: rgb(0, 187, 0)\"><span class=\"ansi-green-fg\">import </span></span><span style=\"color: rgb(0, 187, 187)\"><span class=\"ansi-cyan-fg\">org.apache.spark.sql.functions.asc\n",
       "</span></span>\n",
       "<span style=\"color: rgb(0, 187, 0)\"><span class=\"ansi-green-fg\">import </span></span><span style=\"color: rgb(0, 187, 187)\"><span class=\"ansi-cyan-fg\">scala.math.round\n",
       "\n",
       "</span></span>\n",
       "<span style=\"color: rgb(0, 187, 187)\"><span class=\"ansi-cyan-fg\">round_</span></span>: <span style=\"color: rgb(0, 187, 0)\"><span class=\"ansi-green-fg\">expressions</span></span>.<span style=\"color: rgb(0, 187, 0)\"><span class=\"ansi-green-fg\">UserDefinedFunction</span></span> = <span style=\"color: yellow\"><span class=\"ansi-yellow-fg\">UserDefinedFunction</span></span>(\n",
       "  ammonite.$sess.cmd11$Helper$$Lambda$5517/0x0000000801b10840@730562a3,\n",
       "  StringType,\n",
       "  <span style=\"color: yellow\"><span class=\"ansi-yellow-fg\">Some</span></span>(<span style=\"color: yellow\"><span class=\"ansi-yellow-fg\">List</span></span>(StringType))\n",
       ")\n",
       "defined <span style=\"color: rgb(0, 187, 0)\"><span class=\"ansi-green-fg\">function</span></span> <span style=\"color: rgb(0, 187, 187)\"><span class=\"ansi-cyan-fg\">getBestResults</span></span>\n",
       "<span style=\"color: rgb(0, 187, 187)\"><span class=\"ansi-cyan-fg\">maxDistance</span></span>: <span style=\"color: rgb(0, 187, 0)\"><span class=\"ansi-green-fg\">Int</span></span> = <span style=\"color: rgb(0, 187, 0)\"><span class=\"ansi-green-fg\">300</span></span>\n",
       "<span style=\"color: rgb(0, 187, 187)\"><span class=\"ansi-cyan-fg\">order</span></span>: <span style=\"color: rgb(0, 187, 0)\"><span class=\"ansi-green-fg\">String</span></span> = <span style=\"color: rgb(0, 187, 0)\"><span class=\"ansi-green-fg\">&quot;price&quot;</span></span>\n",
       "<span style=\"color: rgb(0, 187, 187)\"><span class=\"ansi-cyan-fg\">bestResultsByDistance</span></span>: <span style=\"color: rgb(0, 187, 0)\"><span class=\"ansi-green-fg\">DataFrame</span></span> = [longitude: double, latitude: double ... 4 more fields]\n",
       "<span style=\"color: rgb(0, 187, 187)\"><span class=\"ansi-cyan-fg\">bestResultsByPrice</span></span>: <span style=\"color: rgb(0, 187, 0)\"><span class=\"ansi-green-fg\">DataFrame</span></span> = [longitude: double, latitude: double ... 4 more fields]</code></pre>\n",
       "</div>"
      ],
      "text/plain": [
       "\u001b[32mimport \u001b[39m\u001b[36morg.apache.spark.sql.functions.asc\n",
       "\u001b[39m\n",
       "\u001b[32mimport \u001b[39m\u001b[36mscala.math.round\n",
       "\n",
       "\u001b[39m\n",
       "\u001b[36mround_\u001b[39m: \u001b[32mexpressions\u001b[39m.\u001b[32mUserDefinedFunction\u001b[39m = \u001b[33mUserDefinedFunction\u001b[39m(\n",
       "  ammonite.$sess.cmd11$Helper$$Lambda$5517/0x0000000801b10840@730562a3,\n",
       "  StringType,\n",
       "  \u001b[33mSome\u001b[39m(\u001b[33mList\u001b[39m(StringType))\n",
       ")\n",
       "defined \u001b[32mfunction\u001b[39m \u001b[36mgetBestResults\u001b[39m\n",
       "\u001b[36mmaxDistance\u001b[39m: \u001b[32mInt\u001b[39m = \u001b[32m300\u001b[39m\n",
       "\u001b[36morder\u001b[39m: \u001b[32mString\u001b[39m = \u001b[32m\"price\"\u001b[39m\n",
       "\u001b[36mbestResultsByDistance\u001b[39m: \u001b[32mDataFrame\u001b[39m = [longitude: double, latitude: double ... 4 more fields]\n",
       "\u001b[36mbestResultsByPrice\u001b[39m: \u001b[32mDataFrame\u001b[39m = [longitude: double, latitude: double ... 4 more fields]"
      ]
     },
     "metadata": {},
     "output_type": "display_data"
    }
   ],
   "source": [
    "import org.apache.spark.sql.functions.asc\n",
    "import scala.math.round\n",
    "\n",
    "val round_ = udf((value: String) => \"%.2f\".format(value.toDouble))\n",
    "\n",
    "// Définit une fonction pour prendre les meilleurs résultats selon nos critères\n",
    "def getBestResults(order: String, maxDistance: Double, dataframe: Dataset[Row]) = {\n",
    "    order match {\n",
    "        case \"distance\" => dataframe.withColumn(\"distance\", round_(col(\"distance\")).cast(DoubleType))\n",
    "                            .withColumn(\"prix\", col(\"_valeur\").cast(DoubleType) / 1000)\n",
    "                            .filter(col(\"distance\") < maxDistance)\n",
    "                            .orderBy(col(\"distance\").asc)\n",
    "        case \"price\" => dataframe.withColumn(\"distance\", round_(col(\"distance\")).cast(DoubleType))\n",
    "                        .filter(col(\"distance\") < maxDistance)\n",
    "                        .withColumn(\"prix\", col(\"_valeur\").cast(DoubleType) / 1000)\n",
    "                        .orderBy(col(\"prix\").asc)\n",
    "        case _ => spark.emptyDataFrame\n",
    "    }\n",
    "}\n",
    "\n",
    "// Sélectionne les critères selon lesquels on choisit de classer les points de vente\n",
    "var maxDistance = 300\n",
    "\n",
    "var order = \"distance\"\n",
    "val bestResultsByDistance = getBestResults(order, maxDistance, dfDistance).select(\"longitude\", \"latitude\", \"adresse\", \"ville\", \"prix\", \"distance\")\n",
    "\n",
    "order = \"price\"\n",
    "val bestResultsByPrice = getBestResults(order, maxDistance, dfDistance).select(\"longitude\", \"latitude\", \"adresse\", \"ville\", \"prix\", \"distance\")"
   ]
  },
  {
   "cell_type": "markdown",
   "metadata": {},
   "source": [
    "## Affichage des points de vente sélectionnés\n",
    "Une fois les données ordonnées, nous pouvons afficher le choix des points de vente qui correspondent aux critères:"
   ]
  },
  {
   "cell_type": "code",
   "execution_count": 13,
   "metadata": {},
   "outputs": [
    {
     "data": {
      "text/html": [
       "<div>\n",
       "  <span style=\"float: left;\">show at cmd12.sc:1</span>\n",
       "</div>\n"
      ]
     },
     "metadata": {},
     "output_type": "display_data"
    },
    {
     "data": {
      "text/html": [
       "<div class=\"progress\">\n",
       "  <div class=\"progress-bar\" role=\"progressbar\" style=\"background-color: blue; width: 100%; word-wrap: normal; white-space: nowrap; text-align: center; color: white\" aria-valuenow=\"100\" aria-valuemin=\"0\" aria-valuemax=\"100\">\n",
       "    1 / 1\n",
       "  </div>\n",
       "  <div class=\"progress-bar\" role=\"progressbar\" style=\"background-color: red; width: 0%\" aria-valuenow=\"0\" aria-valuemin=\"0\" aria-valuemax=\"100\"></div>\n",
       "</div>\n"
      ]
     },
     "metadata": {},
     "output_type": "display_data"
    },
    {
     "name": "stdout",
     "output_type": "stream",
     "text": [
      "+---------------+------------------+--------------------+--------------------+-----+--------+\n",
      "|      longitude|          latitude|             adresse|               ville| prix|distance|\n",
      "+---------------+------------------+--------------------+--------------------+-----+--------+\n",
      "|          2.408|            48.743|8 Place Gaston Viens|                Orly|1.419|   21.41|\n",
      "|          2.393|            48.296|35 rue du general...|         MALESHERBES|1.359|   75.05|\n",
      "|          2.373|            49.137|  ROUTE DE ROYAUMONT|             VIARMES|1.377|   80.62|\n",
      "|          2.798|            49.298|176, Avenue de la...|B�THISY-SAINT-PIERRE|1.395|  102.78|\n",
      "|          1.157|            49.319|      ROUTE DE LYONS|            IGOVILLE|1.419|  129.66|\n",
      "|          1.034|            49.451|     rue de Montigny|            CANTELEU|1.369|  148.47|\n",
      "|1.2993805014435|    47.58142578404|1 rue de la Quini�re|               Blois|1.375|   164.2|\n",
      "|1.2993805014435|    47.58142578404|1 rue de la Quini�re|               Blois|1.375|   164.2|\n",
      "|          3.917|             48.11|    335 rue du p�age|               AUXON|1.414|  167.31|\n",
      "|          1.942|            50.129|      5 rue du hamel|       SAINT-RIQUIER|1.379|  205.69|\n",
      "|          0.101|            49.506|8, rue Romain Rol...|            Le Havre|1.375|  208.68|\n",
      "|       4.528256|        48.3965167|  BOULEVARD NAPOLEON|  Brienne-le-Ch�teau|1.385|   210.0|\n",
      "|      3.4304281|         49.957514|1000 rue jean jaures|    Fresnoy-le-Grand|1.371|  210.43|\n",
      "|          4.122|            47.502|RUE DU VIEUX CH�TEAU|              TOUTRY|1.412|  219.25|\n",
      "|          2.324|            47.063|     Rue des Acacias|La Chapelle-Saint...|1.384|  221.65|\n",
      "|           3.41|            50.112|      Rue de la Gare|              CAUDRY|1.363|  222.36|\n",
      "|  3.53760957315|50.094479150400005|37 av Mal de Latt...|           LE CATEAU|1.388|  230.83|\n",
      "|    -0.28047954|       49.26294216| route de Ouistreham|Saint-Aubin-d'Arq...|1.369|  253.62|\n",
      "|     5.16159956|       49.63718865|ZAC DE W� - 2 ave...|       CARIGNAN - W�|1.384|  283.01|\n",
      "+---------------+------------------+--------------------+--------------------+-----+--------+\n",
      "\n"
     ]
    }
   ],
   "source": [
    "// Affiche les meilleurs résultats selon le critère distance\n",
    "bestResultsByDistance.show()"
   ]
  },
  {
   "cell_type": "code",
   "execution_count": 14,
   "metadata": {},
   "outputs": [
    {
     "data": {
      "text/html": [
       "<div>\n",
       "  <span style=\"float: left;\">show at cmd13.sc:1</span>\n",
       "</div>\n"
      ]
     },
     "metadata": {},
     "output_type": "display_data"
    },
    {
     "data": {
      "text/html": [
       "<div class=\"progress\">\n",
       "  <div class=\"progress-bar\" role=\"progressbar\" style=\"background-color: blue; width: 100%; word-wrap: normal; white-space: nowrap; text-align: center; color: white\" aria-valuenow=\"100\" aria-valuemin=\"0\" aria-valuemax=\"100\">\n",
       "    1 / 1\n",
       "  </div>\n",
       "  <div class=\"progress-bar\" role=\"progressbar\" style=\"background-color: red; width: 0%\" aria-valuenow=\"0\" aria-valuemin=\"0\" aria-valuemax=\"100\"></div>\n",
       "</div>\n"
      ]
     },
     "metadata": {},
     "output_type": "display_data"
    },
    {
     "name": "stdout",
     "output_type": "stream",
     "text": [
      "+---------------+------------------+--------------------+--------------------+-----+--------+\n",
      "|      longitude|          latitude|             adresse|               ville| prix|distance|\n",
      "+---------------+------------------+--------------------+--------------------+-----+--------+\n",
      "|          2.393|            48.296|35 rue du general...|         MALESHERBES|1.359|   75.05|\n",
      "|           3.41|            50.112|      Rue de la Gare|              CAUDRY|1.363|  222.36|\n",
      "|          1.034|            49.451|     rue de Montigny|            CANTELEU|1.369|  148.47|\n",
      "|    -0.28047954|       49.26294216| route de Ouistreham|Saint-Aubin-d'Arq...|1.369|  253.62|\n",
      "|      3.4304281|         49.957514|1000 rue jean jaures|    Fresnoy-le-Grand|1.371|  210.43|\n",
      "|1.2993805014435|    47.58142578404|1 rue de la Quini�re|               Blois|1.375|   164.2|\n",
      "|1.2993805014435|    47.58142578404|1 rue de la Quini�re|               Blois|1.375|   164.2|\n",
      "|          0.101|            49.506|8, rue Romain Rol...|            Le Havre|1.375|  208.68|\n",
      "|          2.373|            49.137|  ROUTE DE ROYAUMONT|             VIARMES|1.377|   80.62|\n",
      "|          1.942|            50.129|      5 rue du hamel|       SAINT-RIQUIER|1.379|  205.69|\n",
      "|          2.324|            47.063|     Rue des Acacias|La Chapelle-Saint...|1.384|  221.65|\n",
      "|     5.16159956|       49.63718865|ZAC DE W� - 2 ave...|       CARIGNAN - W�|1.384|  283.01|\n",
      "|       4.528256|        48.3965167|  BOULEVARD NAPOLEON|  Brienne-le-Ch�teau|1.385|   210.0|\n",
      "|  3.53760957315|50.094479150400005|37 av Mal de Latt...|           LE CATEAU|1.388|  230.83|\n",
      "|          2.798|            49.298|176, Avenue de la...|B�THISY-SAINT-PIERRE|1.395|  102.78|\n",
      "|          4.122|            47.502|RUE DU VIEUX CH�TEAU|              TOUTRY|1.412|  219.25|\n",
      "|          3.917|             48.11|    335 rue du p�age|               AUXON|1.414|  167.31|\n",
      "|          1.157|            49.319|      ROUTE DE LYONS|            IGOVILLE|1.419|  129.66|\n",
      "|          2.408|            48.743|8 Place Gaston Viens|                Orly|1.419|   21.41|\n",
      "+---------------+------------------+--------------------+--------------------+-----+--------+\n",
      "\n"
     ]
    }
   ],
   "source": [
    "// Affiche les meilleurs résultats selon le critère prix\n",
    "bestResultsByPrice.show()"
   ]
  },
  {
   "cell_type": "markdown",
   "metadata": {},
   "source": [
    "On peut observer que les stations suggérées dans notre exemple sont très éloignées de l'utilisateur. Cela s'explique par l'échantillon restreint de points de vente sur lequel nous avons travaillé. \n",
    "\n",
    "Travailler sur le jeu de données en entier aurait permis que seuls les points de vente les plus proches soient suggérés à l'utilisateur."
   ]
  },
  {
   "cell_type": "markdown",
   "metadata": {},
   "source": [
    "## Visualisation\n",
    "Supposons que l'utilisateur souhaite se rendre dans le point de vente le plus proche (8 Place Gaston Viens à Orly).\n",
    "\n",
    "La réponse de l'API OpenRoute Service nous permet également d'obtenir un itinéraire pour aller de l'utilisateur au point de vente.\n",
    "\n",
    "Pour cela, on peut sélectionner les coordonnées du point de vente le plus proche trouvé et effectuer une nouvelle requête à l'API ORS afin de récupérer l'itinéraire sous format GeoJSON:"
   ]
  },
  {
   "cell_type": "code",
   "execution_count": 15,
   "metadata": {
    "collapsed": true
   },
   "outputs": [
    {
     "data": {
      "text/html": [
       "<div>\n",
       "  <span style=\"float: left;\">first at cmd14.sc:1</span>\n",
       "</div>\n"
      ]
     },
     "metadata": {},
     "output_type": "display_data"
    },
    {
     "data": {
      "text/html": [
       "<div class=\"progress\">\n",
       "  <div class=\"progress-bar\" role=\"progressbar\" style=\"background-color: blue; width: 100%; word-wrap: normal; white-space: nowrap; text-align: center; color: white\" aria-valuenow=\"100\" aria-valuemin=\"0\" aria-valuemax=\"100\">\n",
       "    1 / 1\n",
       "  </div>\n",
       "  <div class=\"progress-bar\" role=\"progressbar\" style=\"background-color: red; width: 0%\" aria-valuenow=\"0\" aria-valuemin=\"0\" aria-valuemax=\"100\"></div>\n",
       "</div>\n"
      ]
     },
     "metadata": {},
     "output_type": "display_data"
    },
    {
     "data": {
      "text/html": [
       "<div>\n",
       "  <span style=\"float: left;\">first at cmd14.sc:2</span>\n",
       "</div>\n"
      ]
     },
     "metadata": {},
     "output_type": "display_data"
    },
    {
     "data": {
      "text/html": [
       "<div class=\"progress\">\n",
       "  <div class=\"progress-bar\" role=\"progressbar\" style=\"background-color: blue; width: 100%; word-wrap: normal; white-space: nowrap; text-align: center; color: white\" aria-valuenow=\"100\" aria-valuemin=\"0\" aria-valuemax=\"100\">\n",
       "    1 / 1\n",
       "  </div>\n",
       "  <div class=\"progress-bar\" role=\"progressbar\" style=\"background-color: red; width: 0%\" aria-valuenow=\"0\" aria-valuemin=\"0\" aria-valuemax=\"100\"></div>\n",
       "</div>\n"
      ]
     },
     "metadata": {},
     "output_type": "display_data"
    },
    {
     "data": {
      "text/html": [
       "<div class=\"jp-RenderedText\">\n",
       "<pre><code><span style=\"color: rgb(0, 187, 187)\"><span class=\"ansi-cyan-fg\">destLong</span></span>: <span style=\"color: rgb(0, 187, 0)\"><span class=\"ansi-green-fg\">Double</span></span> = <span style=\"color: rgb(0, 187, 0)\"><span class=\"ansi-green-fg\">2.408</span></span>\n",
       "<span style=\"color: rgb(0, 187, 187)\"><span class=\"ansi-cyan-fg\">destLat</span></span>: <span style=\"color: rgb(0, 187, 0)\"><span class=\"ansi-green-fg\">Double</span></span> = <span style=\"color: rgb(0, 187, 0)\"><span class=\"ansi-green-fg\">48.743</span></span>\n",
       "<span style=\"color: rgb(0, 187, 187)\"><span class=\"ansi-cyan-fg\">url</span></span>: <span style=\"color: rgb(0, 187, 0)\"><span class=\"ansi-green-fg\">String</span></span> = <span style=\"color: rgb(0, 187, 0)\"><span class=\"ansi-green-fg\">&quot;https://api.openrouteservice.org/v2/directions/driving-car/geojson&quot;</span></span>\n",
       "<span style=\"color: rgb(0, 187, 187)\"><span class=\"ansi-cyan-fg\">data</span></span>: <span style=\"color: rgb(0, 187, 0)\"><span class=\"ansi-green-fg\">Obj</span></span> = <span style=\"color: yellow\"><span class=\"ansi-yellow-fg\">Obj</span></span>(\n",
       "  <span style=\"color: yellow\"><span class=\"ansi-yellow-fg\">Map</span></span>(\n",
       "    <span style=\"color: rgb(0, 187, 0)\"><span class=\"ansi-green-fg\">&quot;coordinates&quot;</span></span> -&gt; <span style=\"color: yellow\"><span class=\"ansi-yellow-fg\">Arr</span></span>(\n",
       "      <span style=\"color: yellow\"><span class=\"ansi-yellow-fg\">ArrayBuffer</span></span>(\n",
       "        <span style=\"color: yellow\"><span class=\"ansi-yellow-fg\">Arr</span></span>(<span style=\"color: yellow\"><span class=\"ansi-yellow-fg\">ArrayBuffer</span></span>(<span style=\"color: yellow\"><span class=\"ansi-yellow-fg\">Str</span></span>(<span style=\"color: rgb(0, 187, 0)\"><span class=\"ansi-green-fg\">&quot;2.199441&quot;</span></span>), <span style=\"color: yellow\"><span class=\"ansi-yellow-fg\">Str</span></span>(<span style=\"color: rgb(0, 187, 0)\"><span class=\"ansi-green-fg\">&quot;48.712793&quot;</span></span>))),\n",
       "        <span style=\"color: yellow\"><span class=\"ansi-yellow-fg\">Arr</span></span>(<span style=\"color: yellow\"><span class=\"ansi-yellow-fg\">ArrayBuffer</span></span>(<span style=\"color: yellow\"><span class=\"ansi-yellow-fg\">Num</span></span>(<span style=\"color: rgb(0, 187, 0)\"><span class=\"ansi-green-fg\">2.408</span></span>), <span style=\"color: yellow\"><span class=\"ansi-yellow-fg\">Num</span></span>(<span style=\"color: rgb(0, 187, 0)\"><span class=\"ansi-green-fg\">48.743</span></span>)))\n",
       "      )\n",
       "    ),\n",
       "    <span style=\"color: rgb(0, 187, 0)\"><span class=\"ansi-green-fg\">&quot;radiuses&quot;</span></span> -&gt; <span style=\"color: yellow\"><span class=\"ansi-yellow-fg\">Arr</span></span>(<span style=\"color: yellow\"><span class=\"ansi-yellow-fg\">ArrayBuffer</span></span>(<span style=\"color: yellow\"><span class=\"ansi-yellow-fg\">Num</span></span>(<span style=\"color: rgb(0, 187, 0)\"><span class=\"ansi-green-fg\">350.0</span></span>), <span style=\"color: yellow\"><span class=\"ansi-yellow-fg\">Num</span></span>(<span style=\"color: rgb(0, 187, 0)\"><span class=\"ansi-green-fg\">2000.0</span></span>)))\n",
       "  )\n",
       ")\n",
       "<span style=\"color: rgb(0, 187, 187)\"><span class=\"ansi-cyan-fg\">headers</span></span>: <span style=\"color: rgb(0, 187, 0)\"><span class=\"ansi-green-fg\">Map</span></span>[<span style=\"color: rgb(0, 187, 0)\"><span class=\"ansi-green-fg\">String</span></span>, <span style=\"color: rgb(0, 187, 0)\"><span class=\"ansi-green-fg\">String</span></span>] = <span style=\"color: yellow\"><span class=\"ansi-yellow-fg\">Map</span></span>(\n",
       "  <span style=\"color: rgb(0, 187, 0)\"><span class=\"ansi-green-fg\">&quot;Authorization&quot;</span></span> -&gt; <span style=\"color: rgb(0, 187, 0)\"><span class=\"ansi-green-fg\">&quot;5b3ce3597851110001cf6248362c82d2031e4ef6afd32a13f0cf5f02&quot;</span></span>,\n",
       "  <span style=\"color: rgb(0, 187, 0)\"><span class=\"ansi-green-fg\">&quot;Content-Type&quot;</span></span> -&gt; <span style=\"color: rgb(0, 187, 0)\"><span class=\"ansi-green-fg\">&quot;application/json; charset=utf-8&quot;</span></span>\n",
       ")\n",
       "<span style=\"color: rgb(0, 187, 187)\"><span class=\"ansi-cyan-fg\">req</span></span>: <span style=\"color: rgb(0, 187, 0)\"><span class=\"ansi-green-fg\">requests</span></span>.<span style=\"color: rgb(0, 187, 0)\"><span class=\"ansi-green-fg\">Response</span></span> = <span style=\"color: yellow\"><span class=\"ansi-yellow-fg\">Response</span></span>(\n",
       "  <span style=\"color: rgb(0, 187, 0)\"><span class=\"ansi-green-fg\">&quot;https://api.openrouteservice.org/v2/directions/driving-car/geojson&quot;</span></span>,\n",
       "  <span style=\"color: rgb(0, 187, 0)\"><span class=\"ansi-green-fg\">200</span></span>,\n",
       "  <span style=\"color: rgb(0, 187, 0)\"><span class=\"ansi-green-fg\">&quot;OK&quot;</span></span>,\n",
       "  {&quot;type&quot;:&quot;FeatureCollection&quot;,&quot;features&quot;:[{&quot;bbox&quot;:[2.199355,48.710657,2.408218,48.761324],&quot;type&quot;:&quot;Feature&quot;,&quot;properties&quot;:{&quot;segments&quot;:[{&quot;distance&quot;:21414.2,&quot;duration&quot;:1378.4,&quot;steps&quot;:[{&quot;distance&quot;:175.8,&quot;duration&quot;:31.1,&quot;type&quot;:11,&quot;instruction&quot;:&quot;Head east on Boulevard Thomas Gobert, D 128&quot;,&quot;name&quot;:&quot;Boulevard Thomas Gobert, D 128&quot;,&quot;way_points&quot;:[0,3]},{&quot;distance&quot;:964.7,&quot;duration&quot;:81.8,&quot;type&quot;:0,&quot;instruction&quot;:&quot;Turn left onto Avenue de la Vauve, D 128&quot;,&quot;name&quot;:&quot;Avenue de la Vauve, D 128&quot;,&quot;way_points&quot;:[3,21]},{&quot;distance&quot;:1544.4,&quot;duration&quot;:126.7,&quot;type&quot;:7,&quot;instruction&quot;:&quot;Enter the roundabout and take the 1st exit onto Route de Saclay, D 36&quot;,&quot;name&quot;:&quot;Route de Saclay, D 36&quot;,&quot;exit_number&quot;:1,&quot;way_points&quot;:[21,56]},{&quot;distance&quot;:133.6,&quot;duration&quot;:19.8,&quot;type&quot;:12,&quot;instruction&quot;:&quot;Keep left onto Route de Saclay, D 36G&quot;,&quot;name&quot;:&quot;Route de Saclay, D 36G&quot;,&quot;way_points&quot;:[56,64]},{&quot;distance&quot;:4673.8,&quot;duration&quot;:280.5,&quot;type&quot;:13,&quot;instruction&quot;:&quot;Keep right onto A 126&quot;,&quot;name&quot;:&quot;A 126&quot;,&quot;way_points&quot;:[64,120]},{&quot;distance&quot;:225.7,&quot;duration&quot;:18.1,&quot;type&quot;:6,&quot;instruction&quot;:&quot;Continue straight onto L'Aquitaine, A 10&quot;,&quot;name&quot;:&quot;L'Aquitaine, A 10&quot;,&quot;way_points&quot;:[120,126]},{&quot;distance&quot;:3439.6,&quot;duration&quot;:158.7,&quot;type&quot;:6,&quot;instruction&quot;:&quot;Continue straight onto L'Aquitaine, A 10&quot;,&quot;name&quot;:&quot;L'Aquitaine, A 10&quot;,&quot;way_points&quot;:[126,171]},{&quot;distance&quot;:2524.6,&quot;duration&quot;:102.3,&quot;type&quot;:13,&quot;instruction&quot;:&quot;Keep right onto A 6b&quot;,&quot;name&quot;:&quot;A 6b&quot;,&quot;way_points&quot;:[171,198]},{&quot;distance&quot;:3750.8,&quot;duration&quot;:188.5,&quot;type&quot;:13,&quot;instruction&quot;:&quot;Keep right&quot;,&quot;name&quot;:&quot;-&quot;,&quot;way_points&quot;:[198,244]},{&quot;distance&quot;:666.8,&quot;duration&quot;:56.2,&quot;type&quot;:13,&quot;instruction&quot;:&quot;Keep right onto Avenue de Versailles, D 86&quot;,&quot;name&quot;:&quot;Avenue de Versailles, D 86&quot;,&quot;way_points&quot;:[244,257]},{&quot;distance&quot;:909.8,&quot;duration&quot;:73.6,&quot;type&quot;:7,&quot;instruction&quot;:&quot;Enter the roundabout and take the 2nd exit onto Avenue de Versailles, D 86&quot;,&quot;name&quot;:&quot;Avenue de Versailles, D 86&quot;,&quot;exit_number&quot;:2,&quot;way_points&quot;:[257,288]},{&quot;distance&quot;:325.9,&quot;duration&quot;:23.5,&quot;type&quot;:13,&quot;instruction&quot;:&quot;Keep right onto Avenue de Versailles, D 87&quot;,&quot;name&quot;:&quot;Avenue de Versailles, D 87&quot;,&quot;way_points&quot;:[288,294]},{&quot;distance&quot;:2003.4,&quot;duration&quot;:199.4,&quot;type&quot;:1,&quot;instruction&quot;:&quot;Turn right onto Avenue du Maréchal de Lattre de Tassigny, D 225&quot;,&quot;name&quot;:&quot;Avenue du Maréchal de Lattre de Tassigny, D 225&quot;,&quot;way_points&quot;:[294,357]},{&quot;distance&quot;:75.3,&quot;duration&quot;:18.1,&quot;type&quot;:13,&quot;instruction&quot;:&quot;Keep right onto Rue du Centre Commercial&quot;,&quot;name&quot;:&quot;Rue du Centre Commercial&quot;,&quot;way_points&quot;:[357,361]},{&quot;distance&quot;:0.0,&quot;duration&quot;:0.0,&quot;type&quot;:10,&quot;instruction&quot;:&quot;Arrive at Rue du Centre Commercial, on the right&quot;,&quot;name&quot;:&quot;-&quot;,&quot;way_points&quot;:[361,361]}]}],&quot;summary&quot;:{&quot;distance&quot;:21414.2,&quot;duration&quot;:1378.4},&quot;way_points&quot;:[0,361]},&quot;geometry&quot;:{&quot;coordinates&quot;:[[2.199355,48.71245],[2.201463,48.71222],[2.201525,48.712212],[2.201718,48.712187],[2.20174,48.712275],[2.202259,48.714319],[2.202287,48.714436],[2.2023...\n",
       "<span style=\"color: rgb(0, 187, 187)\"><span class=\"ansi-cyan-fg\">res14_7</span></span>: <span style=\"color: rgb(0, 187, 0)\"><span class=\"ansi-green-fg\">java</span></span>.<span style=\"color: rgb(0, 187, 0)\"><span class=\"ansi-green-fg\">nio</span></span>.<span style=\"color: rgb(0, 187, 0)\"><span class=\"ansi-green-fg\">file</span></span>.<span style=\"color: rgb(0, 187, 0)\"><span class=\"ansi-green-fg\">Path</span></span> = pathGeo.json</code></pre>\n",
       "</div>"
      ],
      "text/plain": [
       "\u001b[36mdestLong\u001b[39m: \u001b[32mDouble\u001b[39m = \u001b[32m2.408\u001b[39m\n",
       "\u001b[36mdestLat\u001b[39m: \u001b[32mDouble\u001b[39m = \u001b[32m48.743\u001b[39m\n",
       "\u001b[36murl\u001b[39m: \u001b[32mString\u001b[39m = \u001b[32m\"https://api.openrouteservice.org/v2/directions/driving-car/geojson\"\u001b[39m\n",
       "\u001b[36mdata\u001b[39m: \u001b[32mObj\u001b[39m = \u001b[33mObj\u001b[39m(\n",
       "  \u001b[33mMap\u001b[39m(\n",
       "    \u001b[32m\"coordinates\"\u001b[39m -> \u001b[33mArr\u001b[39m(\n",
       "      \u001b[33mArrayBuffer\u001b[39m(\n",
       "        \u001b[33mArr\u001b[39m(\u001b[33mArrayBuffer\u001b[39m(\u001b[33mStr\u001b[39m(\u001b[32m\"2.199441\"\u001b[39m), \u001b[33mStr\u001b[39m(\u001b[32m\"48.712793\"\u001b[39m))),\n",
       "        \u001b[33mArr\u001b[39m(\u001b[33mArrayBuffer\u001b[39m(\u001b[33mNum\u001b[39m(\u001b[32m2.408\u001b[39m), \u001b[33mNum\u001b[39m(\u001b[32m48.743\u001b[39m)))\n",
       "      )\n",
       "    ),\n",
       "    \u001b[32m\"radiuses\"\u001b[39m -> \u001b[33mArr\u001b[39m(\u001b[33mArrayBuffer\u001b[39m(\u001b[33mNum\u001b[39m(\u001b[32m350.0\u001b[39m), \u001b[33mNum\u001b[39m(\u001b[32m2000.0\u001b[39m)))\n",
       "  )\n",
       ")\n",
       "\u001b[36mheaders\u001b[39m: \u001b[32mMap\u001b[39m[\u001b[32mString\u001b[39m, \u001b[32mString\u001b[39m] = \u001b[33mMap\u001b[39m(\n",
       "  \u001b[32m\"Authorization\"\u001b[39m -> \u001b[32m\"5b3ce3597851110001cf6248362c82d2031e4ef6afd32a13f0cf5f02\"\u001b[39m,\n",
       "  \u001b[32m\"Content-Type\"\u001b[39m -> \u001b[32m\"application/json; charset=utf-8\"\u001b[39m\n",
       ")\n",
       "\u001b[36mreq\u001b[39m: \u001b[32mrequests\u001b[39m.\u001b[32mResponse\u001b[39m = \u001b[33mResponse\u001b[39m(\n",
       "  \u001b[32m\"https://api.openrouteservice.org/v2/directions/driving-car/geojson\"\u001b[39m,\n",
       "  \u001b[32m200\u001b[39m,\n",
       "  \u001b[32m\"OK\"\u001b[39m,\n",
       "  {\"type\":\"FeatureCollection\",\"features\":[{\"bbox\":[2.199355,48.710657,2.408218,48.761324],\"type\":\"Feature\",\"properties\":{\"segments\":[{\"distance\":21414.2,\"duration\":1378.4,\"steps\":[{\"distance\":175.8,\"duration\":31.1,\"type\":11,\"instruction\":\"Head east on Boulevard Thomas Gobert, D 128\",\"name\":\"Boulevard Thomas Gobert, D 128\",\"way_points\":[0,3]},{\"distance\":964.7,\"duration\":81.8,\"type\":0,\"instruction\":\"Turn left onto Avenue de la Vauve, D 128\",\"name\":\"Avenue de la Vauve, D 128\",\"way_points\":[3,21]},{\"distance\":1544.4,\"duration\":126.7,\"type\":7,\"instruction\":\"Enter the roundabout and take the 1st exit onto Route de Saclay, D 36\",\"name\":\"Route de Saclay, D 36\",\"exit_number\":1,\"way_points\":[21,56]},{\"distance\":133.6,\"duration\":19.8,\"type\":12,\"instruction\":\"Keep left onto Route de Saclay, D 36G\",\"name\":\"Route de Saclay, D 36G\",\"way_points\":[56,64]},{\"distance\":4673.8,\"duration\":280.5,\"type\":13,\"instruction\":\"Keep right onto A 126\",\"name\":\"A 126\",\"way_points\":[64,120]},{\"distance\":225.7,\"duration\":18.1,\"type\":6,\"instruction\":\"Continue straight onto L'Aquitaine, A 10\",\"name\":\"L'Aquitaine, A 10\",\"way_points\":[120,126]},{\"distance\":3439.6,\"duration\":158.7,\"type\":6,\"instruction\":\"Continue straight onto L'Aquitaine, A 10\",\"name\":\"L'Aquitaine, A 10\",\"way_points\":[126,171]},{\"distance\":2524.6,\"duration\":102.3,\"type\":13,\"instruction\":\"Keep right onto A 6b\",\"name\":\"A 6b\",\"way_points\":[171,198]},{\"distance\":3750.8,\"duration\":188.5,\"type\":13,\"instruction\":\"Keep right\",\"name\":\"-\",\"way_points\":[198,244]},{\"distance\":666.8,\"duration\":56.2,\"type\":13,\"instruction\":\"Keep right onto Avenue de Versailles, D 86\",\"name\":\"Avenue de Versailles, D 86\",\"way_points\":[244,257]},{\"distance\":909.8,\"duration\":73.6,\"type\":7,\"instruction\":\"Enter the roundabout and take the 2nd exit onto Avenue de Versailles, D 86\",\"name\":\"Avenue de Versailles, D 86\",\"exit_number\":2,\"way_points\":[257,288]},{\"distance\":325.9,\"duration\":23.5,\"type\":13,\"instruction\":\"Keep right onto Avenue de Versailles, D 87\",\"name\":\"Avenue de Versailles, D 87\",\"way_points\":[288,294]},{\"distance\":2003.4,\"duration\":199.4,\"type\":1,\"instruction\":\"Turn right onto Avenue du Maréchal de Lattre de Tassigny, D 225\",\"name\":\"Avenue du Maréchal de Lattre de Tassigny, D 225\",\"way_points\":[294,357]},{\"distance\":75.3,\"duration\":18.1,\"type\":13,\"instruction\":\"Keep right onto Rue du Centre Commercial\",\"name\":\"Rue du Centre Commercial\",\"way_points\":[357,361]},{\"distance\":0.0,\"duration\":0.0,\"type\":10,\"instruction\":\"Arrive at Rue du Centre Commercial, on the right\",\"name\":\"-\",\"way_points\":[361,361]}]}],\"summary\":{\"distance\":21414.2,\"duration\":1378.4},\"way_points\":[0,361]},\"geometry\":{\"coordinates\":[[2.199355,48.71245],[2.201463,48.71222],[2.201525,48.712212],[2.201718,48.712187],[2.20174,48.712275],[2.202259,48.714319],[2.202287,48.714436],[2.2023...\n",
       "\u001b[36mres14_7\u001b[39m: \u001b[32mjava\u001b[39m.\u001b[32mnio\u001b[39m.\u001b[32mfile\u001b[39m.\u001b[32mPath\u001b[39m = pathGeo.json"
      ]
     },
     "metadata": {},
     "output_type": "display_data"
    }
   ],
   "source": [
    "// On récupère les coordonnées du point de vente le plus proche:\n",
    "val destLong = bestResultsByDistance.select(col(\"longitude\")).first().getDouble(0)\n",
    "val destLat = bestResultsByDistance.select(col(\"latitude\")).first().getDouble(0)\n",
    "                    \n",
    "// On construit la requête\n",
    "var url = \"https://api.openrouteservice.org/v2/directions/driving-car/geojson\"\n",
    "var data = Obj(\"coordinates\" -> Arr(Arr(inputLong,inputLat), Arr(destLong,destLat)), \n",
    "                   \"radiuses\" -> Arr(350, 2000))\n",
    "var headers = Map(\"Authorization\" -> s\"$orsToken\", \"Content-Type\" -> \"application/json; charset=utf-8\")\n",
    "    \n",
    "// On effectue la requête\n",
    "var req = requests.post(url = url, data = data.toString, headers = headers)\n",
    "assert(req.statusCode == 200)\n",
    "\n",
    "Files.write(Paths.get(\"pathGeo.json\"), ujson.transform(req.text, BytesRenderer()).toBytes)"
   ]
  },
  {
   "cell_type": "markdown",
   "metadata": {},
   "source": [
    "On a enregistré l'itinéraire sous format GeoJSON dans le fichier [pathGeo.json](pathGeo.json) et pouvons le visualiser sur [OpenStreetMap](https://umap.openstreetmap.fr/fr/map/new/#6/51.000/2.000) en utilisant la fonction `Importer des données`.\n",
    "\n",
    "On observe qu'il s'agit bien d'un itinéraire pour aller de Palaiseau à Orly.\n",
    "![](osm_path.png)"
   ]
  }
 ],
 "metadata": {
  "kernelspec": {
   "display_name": "Scala",
   "language": "scala",
   "name": "scala"
  },
  "language_info": {
   "codemirror_mode": "text/x-scala",
   "file_extension": ".sc",
   "mimetype": "text/x-scala",
   "name": "scala",
   "nbconvert_exporter": "script",
   "version": "2.12.11"
  }
 },
 "nbformat": 4,
 "nbformat_minor": 4
}
